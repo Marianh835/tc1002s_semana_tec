{
  "nbformat": 4,
  "nbformat_minor": 0,
  "metadata": {
    "colab": {
      "provenance": []
    },
    "kernelspec": {
      "name": "python3",
      "display_name": "Python 3"
    },
    "language_info": {
      "name": "python"
    }
  },
  "cells": [
    {
      "cell_type": "code",
      "source": [
        "arreglo_cincos = np.full(10, 5)\n",
        "print(arreglo_cincos)"
      ],
      "metadata": {
        "colab": {
          "base_uri": "https://localhost:8080/"
        },
        "outputId": "f4743fc9-1da5-4a8c-9dfe-275d05a5f2c0",
        "id": "xVTSW6V1SPN6"
      },
      "execution_count": null,
      "outputs": [
        {
          "output_type": "stream",
          "name": "stdout",
          "text": [
            "[5 5 5 5 5 5 5 5 5 5]\n"
          ]
        }
      ]
    },
    {
      "cell_type": "code",
      "execution_count": null,
      "metadata": {
        "id": "ARNtGpvtCkuD"
      },
      "outputs": [],
      "source": [
        "import numpy as np"
      ]
    },
    {
      "cell_type": "code",
      "source": [
        "arreglo_cincos = np.full(10, 5)\n",
        "print(arreglo_cincos)"
      ],
      "metadata": {
        "id": "OJK9qRxaNVck",
        "colab": {
          "base_uri": "https://localhost:8080/"
        },
        "outputId": "a1c23a49-5d95-4d36-acbb-fb392dcd41b1"
      },
      "execution_count": null,
      "outputs": [
        {
          "output_type": "stream",
          "name": "stdout",
          "text": [
            "[5 5 5 5 5 5 5 5 5 5]\n"
          ]
        }
      ]
    },
    {
      "cell_type": "code",
      "source": [
        "arreglo_pares = np.arange(10, 51, 2)\n",
        "print(arreglo_pares)"
      ],
      "metadata": {
        "colab": {
          "base_uri": "https://localhost:8080/"
        },
        "id": "nFcGDtlnOZdM",
        "outputId": "0fd27b20-7e3e-4900-a0b1-ab76f06927ad"
      },
      "execution_count": null,
      "outputs": [
        {
          "output_type": "stream",
          "name": "stdout",
          "text": [
            "[10 12 14 16 18 20 22 24 26 28 30 32 34 36 38 40 42 44 46 48 50]\n"
          ]
        }
      ]
    },
    {
      "cell_type": "code",
      "source": [
        "matriz=np.random.randint(0, 100, (4, 4))\n",
        "print(matriz)"
      ],
      "metadata": {
        "colab": {
          "base_uri": "https://localhost:8080/"
        },
        "id": "09Nr-repOkNO",
        "outputId": "1a1be2ce-34d5-4443-a914-8d266d2fc40d"
      },
      "execution_count": null,
      "outputs": [
        {
          "output_type": "stream",
          "name": "stdout",
          "text": [
            "[[94 67 49 88]\n",
            " [29 73 41 18]\n",
            " [50 23 58  5]\n",
            " [61 44 82 16]]\n"
          ]
        }
      ]
    },
    {
      "cell_type": "code",
      "source": [
        "arreglo_rand = np.random.rand(10)\n",
        "suma = np.sum(arreglo_rand)\n",
        "print(\"Arreglo:\", arreglo_rand)\n",
        "print(\"Suma:\", suma)"
      ],
      "metadata": {
        "colab": {
          "base_uri": "https://localhost:8080/"
        },
        "id": "ZiJMVXUROk-V",
        "outputId": "2d4119c9-e75b-4d2c-f0cf-012ef41618ac"
      },
      "execution_count": null,
      "outputs": [
        {
          "output_type": "stream",
          "name": "stdout",
          "text": [
            "Arreglo: [0.28875584 0.29135159 0.70147287 0.29985369 0.67920191 0.55398264\n",
            " 0.15126429 0.55869265 0.17984782 0.67863955]\n",
            "Suma: 4.383062832139934\n"
          ]
        }
      ]
    },
    {
      "cell_type": "code",
      "source": [
        "arreglo_rand2 = np.random.rand(10)\n",
        "media = np.mean(arreglo_rand2)\n",
        "print(\"Arreglo:\", arreglo_rand2)\n",
        "print(\"Media:\", media)"
      ],
      "metadata": {
        "colab": {
          "base_uri": "https://localhost:8080/"
        },
        "id": "Oqja3sqeOn47",
        "outputId": "2def5663-118b-4a27-bb92-8ca58b4e676f"
      },
      "execution_count": null,
      "outputs": [
        {
          "output_type": "stream",
          "name": "stdout",
          "text": [
            "Arreglo: [0.85547966 0.87207187 0.92898437 0.26396488 0.80177675 0.29272722\n",
            " 0.03803702 0.58242261 0.18987095 0.46441299]\n",
            "Media: 0.5289748321974577\n"
          ]
        }
      ]
    }
  ]
}